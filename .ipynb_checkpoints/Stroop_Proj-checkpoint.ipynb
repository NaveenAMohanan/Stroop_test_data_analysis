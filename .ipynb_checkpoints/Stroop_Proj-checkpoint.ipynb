{
 "cells": [
  {
   "cell_type": "markdown",
   "metadata": {},
   "source": [
    "# Project:Test a Perceptual Phenomenon\n",
    "Naveen A Mohanan\n",
    "26/2/2018\n",
    "\n",
    "\n",
    "# The Stroop Experiment\n",
    "\n",
    "In a Stroop task, participants are presented with a list of words, with each word displayed in a color of ink. The participant’s task is to say out loud the color of the ink in which the word is printed. The task has two conditions: a congruent words condition, and an incongruent words condition. In the congruent words condition, the words being displayed are color words whose names match the colors in which they are printed: for example RED, BLUE. In the incongruent words condition, the words displayed are color words whose names do not match the colors in which they are printed: for example PURPLE, ORANGE. In each case, we measure the time it takes to name the ink colors in equally-sized lists. Each participant will go through and record a time from each condition.\n",
    "\n",
    "# The Goal of the Project\n",
    "\n",
    "The goal of this project is to perform an appropriate statistical test on a sample of participants, who went through the stroop effect experiment and recorded their reaction time of the task under both conditions. Ultimately, the test results will predict the outcome of the entire population of participants who perform the same tasks based on the results of the statistical test and therefore deciding whether the Stroop effect indeed interferes with people’s reaction time of a task\n"
   ]
  },
  {
   "cell_type": "markdown",
   "metadata": {},
   "source": [
    "## Posing Questions\n",
    "\n",
    "**Question 1**:What is our independent variable? What is our dependent variable?\n",
    "\n",
    "**Answer**: Our independent variable is the condition of Stroop task ,Dependent variable is the difference of time taken by the participants to name the colors of ink in seconds for Congruent and inCongruent"
   ]
  },
  {
   "cell_type": "markdown",
   "metadata": {},
   "source": [
    "**Question 2**:What is an appropriate set of hypotheses for this task? What kind of statistical test do you expect to perform? Justify your choices.\n",
    "\n",
    "**Answer**:Assuming that the data is normally distributed,we expect to perform a One Sample Paired t-test, which is carried out when two different treatments are applied to the same subjects\n",
    "\n",
    ">**Null hypothesis($H_0$)**: There is no significant change in mean of the time taken for congurent and incongurent.\n",
    "\n",
    ">**Alternate hypothesis($H_A$)**: mean of the time taken by the participants in incongruent is more.\n",
    "\n",
    ">>$\\normalsize {H_0 : \\mu_c  {\\leq}  \\mu_{in}} $\n",
    "\n",
    ">>$\\normalsize {H_A : \\mu_c  {>}  \\mu_{in}} $\n",
    "\n",
    ">($\\mu_c=$ mean of congurent , $\\mu_{in}=$ mean of incongurent)\n",
    "\n",
    ">** Establish a statistical test**: A one tailed test in the +ve(positive) direction. "
   ]
  },
  {
   "cell_type": "markdown",
   "metadata": {},
   "source": [
    "** Question 3 **:Report some descriptive statistics regarding this dataset. Include at least one measure of central tendency and at least one measure of variability.\n",
    "\n",
    "**Answer**:Stroop Effect Dataset where each row of the dataset contains the performance for one participant, with the first number representing their reaction time for the congruent task and the second number representing their reaction time for the incongruent task.\n",
    "https://drive.google.com/file/d/0B9Yf01UaIbUgQXpYb2NhZ29yX1U/view\n",
    "\n",
    "** Measure of centrality: ** Mean for congruent $\\bar x_c$=14.051125 sec,Mean for incongruent x-in=22.01591667 sec.\n",
    ">Difference btw the means $\\bar x_c-\\bar x_{in}$= 7.964791667\n",
    "\n",
    "** Measure of  variability: ** Standard deviation for congruent = 3.559357958 ,Standard deviation for incongruent = 4.797057122sec. \n",
    ">Standard derivation of difference **(SD)**= 4.86482691\n",
    "\n",
    "\n",
    "Standard error**(SE)** = $\\frac{S}{\\sqrt{n}}$ =0.9930286348\n"
   ]
  },
  {
   "cell_type": "markdown",
   "metadata": {},
   "source": [
    "**Q4**: One or two visualizations have been created that show off the data, including comments on what can be observed in the plot or plots.\n",
    "\n",
    "**Answer**"
   ]
  },
  {
   "cell_type": "code",
   "execution_count": 27,
   "metadata": {
    "collapsed": false
   },
   "outputs": [
    {
     "data": {
      "image/png": "[encoded data removed]",
      "text/plain": [
       "<matplotlib.figure.Figure at 0x80db90>"
      ]
     },
     "metadata": {},
     "output_type": "display_data"
    },
    {
     "data": {
      "image/png": "[encoded data removed]",
      "text/plain": [
       "<matplotlib.figure.Figure at 0x9b0570>"
      ]
     },
     "metadata": {},
     "output_type": "display_data"
    }
   ],
   "source": [
    "import csv\n",
    "import matplotlib.pyplot as plt\n",
    "%matplotlib inline \n",
    "\n",
    "def plotgraph(file):\n",
    "    tdata=[]\n",
    "    tindata=[]\n",
    "    with open(file, 'r') as f_in:\n",
    "        reader = csv.DictReader(f_in)\n",
    "        for row in reader:\n",
    "            Congruent = float(row['Congruent'])\n",
    "            Incongruent = float(row['Incongruent'])\n",
    "            tdata.append(Congruent)\n",
    "            tindata.append(Incongruent)\n",
    "            \n",
    "    #plt.hist(tdata,range=[0,250])\n",
    "    plt.hist(tdata)\n",
    "    plt.title('Distribution Congruent')\n",
    "    plt.xlabel('Time (sec)')\n",
    "    plt.show()\n",
    "    \n",
    "    plt.hist(tindata)\n",
    "    plt.title('Distribution INcongruent')\n",
    "    plt.xlabel('Time (sec)')\n",
    "    plt.show()\n",
    "    \n",
    "data_file = './data/Stroop.csv'\n",
    "#data_file='./data/stroopdata.csv'\n",
    "plotgraph(data_file)\n",
    "    \n"
   ]
  },
  {
   "cell_type": "markdown",
   "metadata": {},
   "source": [
    "**Question 5**:A statistical test has been correctly performed and reported, including test statistic, p-value, and test result. The test results are interpreted in terms of the experimental task performed.\n",
    "\n",
    "**Answer**:Sample size**(n)**=24, degree of freedom**(df)**=23, Direction = +ve, $\\alpha$ = .05, t-critical value= 1.714\n",
    "\n",
    "t-statistics = $\\normalsize{\\frac{\\mu_c - \\mu_{in}}{SE}}$ =8.020706944\n",
    "\n",
    "\n",
    "# Results\n",
    "*(All claculations done on google spread sheet provided in zip)*\n",
    "\n",
    "T-value fall on the *Critical Region*:**Yes** , \n",
    "\n",
    "P value grater than 0.05(p>.05):**Yes** , exact p value=  **2.052e-08** \n",
    "\n",
    "Result statistically significant: **Yes** (t-value significantly grater than  t-critical)(8.020706944>1.714)  \n",
    ">Reject the Null Hypothesis($H_0$)  \n",
    "\n",
    "Cohens d = $\\normalsize{\\frac{\\mu_c - \\mu_{in}}{SD}}$ =1.637219949\n",
    "\n",
    "$r^2=\\normalsize{\\frac{t^2}{t^2+df}}$ =0.7366364161 % of difference in speed due to automation of reading in incongruent task.\n",
    "\n",
    "Margin of error for 95% Critical interval=$(t-critical*SE)$= 1.70205108\n",
    "\n",
    "Confidence Interval = (**6.262740587 to 9.666842747)** if we perform the incongruent words task on average the duration took longer will be between (6.262740587 to 9.666842747)\n",
    "\n",
    "\n",
    "As calculated above for the one-sample paired t-test, with an α level of 0.05, the t-statistics is equal to 8.0207, which has passed the t-critical value (1.713872). The p-value is nearly zero, which is less than α, and therefore based on both the t-statistic and the p-value of the test, we reject the null hypothesi($H_0$)) in favor of the alternative hypothesis ($H_A$) and conclude that the participants’ reaction time of the task under the incongruent words condition is significantly longer than that of the congruent words condition. The results match up with my expectation as my own result of the stroop effect experiment is consistent with the outcome of this test. In other words, the Stroop effect indeed interferes people’s reaction time of a task.\n",
    "\n"
   ]
  },
  {
   "cell_type": "markdown",
   "metadata": {},
   "source": [
    "**Question 6**:Hypotheses regarding the reasons for the effect observed are presented. An extension or related experiment to the performed Stroop task is provided, that may produce similar effects.\n",
    "\n",
    "**Answer**:One plausible explanation for the Stroop effect is that humans tend to read words faster than naming colors of the printed words. In other words, if our task is to name the colors and in the meantime ignoring the printed words, then interference is very likely to result.[3] In contrast, if we reverse the process by saying out the printed words and ignoring the colors, then we are likely to react to the task much easier and quicker. A similar task that would result in a similar effect is naming the size of drawings of some real-life objects. For example, say if we present participants with a list of drawings of randomly scaled objects and ask them to say either “big” or “small” to those objects, then they are likely to experience the Stroop effect if they see a drawing of an elephant, for example, that looks as small as a rabbit."
   ]
  },
  {
   "cell_type": "markdown",
   "metadata": {},
   "source": [
    "# References\n",
    "1.Wikipedia, https://en.wikipedia.org/wiki/Stroop_effect. \n",
    "\n",
    "2.Graphpad, https://www.graphpad.com/quickcalcs/contMenu/"
   ]
  }
 ],
 "metadata": {
  "anaconda-cloud": {},
  "kernelspec": {
   "display_name": "Python [conda env:Anaconda3]",
   "language": "python",
   "name": "conda-env-Anaconda3-py"
  },
  "language_info": {
   "codemirror_mode": {
    "name": "ipython",
    "version": 3
   },
   "file_extension": ".py",
   "mimetype": "text/x-python",
   "name": "python",
   "nbconvert_exporter": "python",
   "pygments_lexer": "ipython3",
   "version": "3.6.4"
  }
 },
 "nbformat": 4,
 "nbformat_minor": 2
}
